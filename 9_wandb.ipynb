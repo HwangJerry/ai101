{
 "cells": [
  {
   "cell_type": "code",
   "id": "initial_id",
   "metadata": {
    "collapsed": true,
    "ExecuteTime": {
     "end_time": "2025-02-12T00:42:34.128867Z",
     "start_time": "2025-02-12T00:41:59.995562Z"
    }
   },
   "source": "%pip install wandb",
   "outputs": [
    {
     "name": "stdout",
     "output_type": "stream",
     "text": [
      "Collecting wandb\n",
      "  Obtaining dependency information for wandb from https://files.pythonhosted.org/packages/fd/b2/a9ffa91c43dbe2a6687467f3aa196947b7532592879738665be5c0db17c3/wandb-0.19.6-py3-none-win_amd64.whl.metadata\n",
      "  Downloading wandb-0.19.6-py3-none-win_amd64.whl.metadata (10 kB)\n",
      "Collecting click!=8.0.0,>=7.1 (from wandb)\n",
      "  Obtaining dependency information for click!=8.0.0,>=7.1 from https://files.pythonhosted.org/packages/7e/d4/7ebdbd03970677812aac39c869717059dbb71a4cfc033ca6e5221787892c/click-8.1.8-py3-none-any.whl.metadata\n",
      "  Downloading click-8.1.8-py3-none-any.whl.metadata (2.3 kB)\n",
      "Collecting docker-pycreds>=0.4.0 (from wandb)\n",
      "  Obtaining dependency information for docker-pycreds>=0.4.0 from https://files.pythonhosted.org/packages/f5/e8/f6bd1eee09314e7e6dee49cbe2c5e22314ccdb38db16c9fc72d2fa80d054/docker_pycreds-0.4.0-py2.py3-none-any.whl.metadata\n",
      "  Downloading docker_pycreds-0.4.0-py2.py3-none-any.whl.metadata (1.8 kB)\n",
      "Collecting gitpython!=3.1.29,>=1.0.0 (from wandb)\n",
      "  Obtaining dependency information for gitpython!=3.1.29,>=1.0.0 from https://files.pythonhosted.org/packages/1d/9a/4114a9057db2f1462d5c8f8390ab7383925fe1ac012eaa42402ad65c2963/GitPython-3.1.44-py3-none-any.whl.metadata\n",
      "  Downloading GitPython-3.1.44-py3-none-any.whl.metadata (13 kB)\n",
      "Requirement already satisfied: platformdirs in c:\\users\\ghkdw\\appdata\\roaming\\python\\python312\\site-packages (from wandb) (4.3.6)\n",
      "Requirement already satisfied: protobuf!=4.21.0,!=5.28.0,<6,>=3.19.0 in c:\\users\\ghkdw\\appdata\\local\\programs\\python\\python312\\lib\\site-packages (from wandb) (5.29.3)\n",
      "Requirement already satisfied: psutil>=5.0.0 in c:\\users\\ghkdw\\appdata\\roaming\\python\\python312\\site-packages (from wandb) (6.1.1)\n",
      "Collecting pydantic<3,>=2.6 (from wandb)\n",
      "  Obtaining dependency information for pydantic<3,>=2.6 from https://files.pythonhosted.org/packages/f4/3c/8cc1cc84deffa6e25d2d0c688ebb80635dfdbf1dbea3e30c541c8cf4d860/pydantic-2.10.6-py3-none-any.whl.metadata\n",
      "  Downloading pydantic-2.10.6-py3-none-any.whl.metadata (30 kB)\n",
      "Requirement already satisfied: pyyaml in c:\\users\\ghkdw\\appdata\\local\\programs\\python\\python312\\lib\\site-packages (from wandb) (6.0.2)\n",
      "Requirement already satisfied: requests<3,>=2.0.0 in c:\\users\\ghkdw\\appdata\\local\\programs\\python\\python312\\lib\\site-packages (from wandb) (2.32.3)\n",
      "Collecting sentry-sdk>=2.0.0 (from wandb)\n",
      "  Obtaining dependency information for sentry-sdk>=2.0.0 from https://files.pythonhosted.org/packages/e6/0f/6f7e6cd0f4a141752caef3f79300148422fdf2b8b68b531f30b2b0c0cbda/sentry_sdk-2.20.0-py2.py3-none-any.whl.metadata\n",
      "  Downloading sentry_sdk-2.20.0-py2.py3-none-any.whl.metadata (10 kB)\n",
      "Collecting setproctitle (from wandb)\n",
      "  Obtaining dependency information for setproctitle from https://files.pythonhosted.org/packages/44/5c/6e6665b5fd800206a9e537ab0d2630d7b9b31b4697d931ed468837cc9cf5/setproctitle-1.3.4-cp312-cp312-win_amd64.whl.metadata\n",
      "  Downloading setproctitle-1.3.4-cp312-cp312-win_amd64.whl.metadata (10 kB)\n",
      "Requirement already satisfied: setuptools in c:\\users\\ghkdw\\appdata\\local\\programs\\python\\python312\\lib\\site-packages (from wandb) (75.8.0)\n",
      "Requirement already satisfied: colorama in c:\\users\\ghkdw\\appdata\\roaming\\python\\python312\\site-packages (from click!=8.0.0,>=7.1->wandb) (0.4.6)\n",
      "Requirement already satisfied: six>=1.4.0 in c:\\users\\ghkdw\\appdata\\roaming\\python\\python312\\site-packages (from docker-pycreds>=0.4.0->wandb) (1.17.0)\n",
      "Collecting gitdb<5,>=4.0.1 (from gitpython!=3.1.29,>=1.0.0->wandb)\n",
      "  Obtaining dependency information for gitdb<5,>=4.0.1 from https://files.pythonhosted.org/packages/a0/61/5c78b91c3143ed5c14207f463aecfc8f9dbb5092fb2869baf37c273b2705/gitdb-4.0.12-py3-none-any.whl.metadata\n",
      "  Downloading gitdb-4.0.12-py3-none-any.whl.metadata (1.2 kB)\n",
      "Collecting annotated-types>=0.6.0 (from pydantic<3,>=2.6->wandb)\n",
      "  Obtaining dependency information for annotated-types>=0.6.0 from https://files.pythonhosted.org/packages/78/b6/6307fbef88d9b5ee7421e68d78a9f162e0da4900bc5f5793f6d3d0e34fb8/annotated_types-0.7.0-py3-none-any.whl.metadata\n",
      "  Downloading annotated_types-0.7.0-py3-none-any.whl.metadata (15 kB)\n",
      "Collecting pydantic-core==2.27.2 (from pydantic<3,>=2.6->wandb)\n",
      "  Obtaining dependency information for pydantic-core==2.27.2 from https://files.pythonhosted.org/packages/1f/ea/cd7209a889163b8dcca139fe32b9687dd05249161a3edda62860430457a5/pydantic_core-2.27.2-cp312-cp312-win_amd64.whl.metadata\n",
      "  Downloading pydantic_core-2.27.2-cp312-cp312-win_amd64.whl.metadata (6.7 kB)\n",
      "Requirement already satisfied: typing-extensions>=4.12.2 in c:\\users\\ghkdw\\appdata\\local\\programs\\python\\python312\\lib\\site-packages (from pydantic<3,>=2.6->wandb) (4.12.2)\n",
      "Requirement already satisfied: charset-normalizer<4,>=2 in c:\\users\\ghkdw\\appdata\\local\\programs\\python\\python312\\lib\\site-packages (from requests<3,>=2.0.0->wandb) (3.4.1)\n",
      "Requirement already satisfied: idna<4,>=2.5 in c:\\users\\ghkdw\\appdata\\local\\programs\\python\\python312\\lib\\site-packages (from requests<3,>=2.0.0->wandb) (3.10)\n",
      "Requirement already satisfied: urllib3<3,>=1.21.1 in c:\\users\\ghkdw\\appdata\\local\\programs\\python\\python312\\lib\\site-packages (from requests<3,>=2.0.0->wandb) (2.3.0)\n",
      "Requirement already satisfied: certifi>=2017.4.17 in c:\\users\\ghkdw\\appdata\\local\\programs\\python\\python312\\lib\\site-packages (from requests<3,>=2.0.0->wandb) (2025.1.31)\n",
      "Collecting smmap<6,>=3.0.1 (from gitdb<5,>=4.0.1->gitpython!=3.1.29,>=1.0.0->wandb)\n",
      "  Obtaining dependency information for smmap<6,>=3.0.1 from https://files.pythonhosted.org/packages/04/be/d09147ad1ec7934636ad912901c5fd7667e1c858e19d355237db0d0cd5e4/smmap-5.0.2-py3-none-any.whl.metadata\n",
      "  Downloading smmap-5.0.2-py3-none-any.whl.metadata (4.3 kB)\n",
      "Downloading wandb-0.19.6-py3-none-win_amd64.whl (20.2 MB)\n",
      "   ---------------------------------------- 0.0/20.2 MB ? eta -:--:--\n",
      "   ---------------------------------------- 0.2/20.2 MB 4.6 MB/s eta 0:00:05\n",
      "   ---------------------------------------- 0.2/20.2 MB 4.6 MB/s eta 0:00:05\n",
      "   ---------------------------------------- 0.2/20.2 MB 4.6 MB/s eta 0:00:05\n",
      "   ---------------------------------------- 0.2/20.2 MB 4.6 MB/s eta 0:00:05\n",
      "   ---------------------------------------- 0.2/20.2 MB 4.6 MB/s eta 0:00:05\n",
      "   ---------------------------------------- 0.2/20.2 MB 4.6 MB/s eta 0:00:05\n",
      "   ---------------------------------------- 0.2/20.2 MB 655.1 kB/s eta 0:00:31\n",
      "    --------------------------------------- 0.4/20.2 MB 1.2 MB/s eta 0:00:17\n",
      "   - -------------------------------------- 0.6/20.2 MB 1.5 MB/s eta 0:00:14\n",
      "   - -------------------------------------- 1.0/20.2 MB 2.1 MB/s eta 0:00:10\n",
      "   -- ------------------------------------- 1.4/20.2 MB 2.9 MB/s eta 0:00:07\n",
      "   --- ------------------------------------ 2.0/20.2 MB 3.7 MB/s eta 0:00:05\n",
      "   ----- ---------------------------------- 2.7/20.2 MB 4.5 MB/s eta 0:00:04\n",
      "   ------ --------------------------------- 3.3/20.2 MB 5.2 MB/s eta 0:00:04\n",
      "   ------- -------------------------------- 4.0/20.2 MB 5.8 MB/s eta 0:00:03\n",
      "   --------- ------------------------------ 4.9/20.2 MB 6.7 MB/s eta 0:00:03\n",
      "   ----------- ---------------------------- 6.0/20.2 MB 7.6 MB/s eta 0:00:02\n",
      "   -------------- ------------------------- 7.4/20.2 MB 9.1 MB/s eta 0:00:02\n",
      "   ----------------- ---------------------- 9.0/20.2 MB 10.3 MB/s eta 0:00:02\n",
      "   -------------------- ------------------- 10.6/20.2 MB 17.2 MB/s eta 0:00:01\n",
      "   ----------------------- ---------------- 11.9/20.2 MB 23.4 MB/s eta 0:00:01\n",
      "   -------------------------- ------------- 13.5/20.2 MB 27.3 MB/s eta 0:00:01\n",
      "   ----------------------------- ---------- 15.1/20.2 MB 31.2 MB/s eta 0:00:01\n",
      "   ------------------------------ --------- 15.6/20.2 MB 29.7 MB/s eta 0:00:01\n",
      "   ------------------------------- -------- 16.1/20.2 MB 29.8 MB/s eta 0:00:01\n",
      "   ------------------------------- -------- 16.1/20.2 MB 29.8 MB/s eta 0:00:01\n",
      "   ------------------------------- -------- 16.1/20.2 MB 29.8 MB/s eta 0:00:01\n",
      "   --------------------------------- ------ 16.7/20.2 MB 21.1 MB/s eta 0:00:01\n",
      "   ---------------------------------- ----- 17.6/20.2 MB 20.5 MB/s eta 0:00:01\n",
      "   ------------------------------------- -- 19.2/20.2 MB 19.8 MB/s eta 0:00:01\n",
      "   ---------------------------------------  20.2/20.2 MB 20.5 MB/s eta 0:00:01\n",
      "   ---------------------------------------  20.2/20.2 MB 20.5 MB/s eta 0:00:01\n",
      "   ---------------------------------------  20.2/20.2 MB 20.5 MB/s eta 0:00:01\n",
      "   ---------------------------------------- 20.2/20.2 MB 16.4 MB/s eta 0:00:00\n",
      "Downloading click-8.1.8-py3-none-any.whl (98 kB)\n",
      "   ---------------------------------------- 0.0/98.2 kB ? eta -:--:--\n",
      "   ---------------------------------------- 98.2/98.2 kB ? eta 0:00:00\n",
      "Downloading docker_pycreds-0.4.0-py2.py3-none-any.whl (9.0 kB)\n",
      "Downloading GitPython-3.1.44-py3-none-any.whl (207 kB)\n",
      "   ---------------------------------------- 0.0/207.6 kB ? eta -:--:--\n",
      "   --------------------------------------- 207.6/207.6 kB 13.2 MB/s eta 0:00:00\n",
      "Downloading pydantic-2.10.6-py3-none-any.whl (431 kB)\n",
      "   ---------------------------------------- 0.0/431.7 kB ? eta -:--:--\n",
      "   --------------------------------------- 431.7/431.7 kB 28.1 MB/s eta 0:00:00\n",
      "Downloading pydantic_core-2.27.2-cp312-cp312-win_amd64.whl (2.0 MB)\n",
      "   ---------------------------------------- 0.0/2.0 MB ? eta -:--:--\n",
      "   ------------------- -------------------- 1.0/2.0 MB 30.4 MB/s eta 0:00:01\n",
      "   ---------------------------------------- 2.0/2.0 MB 25.0 MB/s eta 0:00:00\n",
      "Downloading sentry_sdk-2.20.0-py2.py3-none-any.whl (322 kB)\n",
      "   ---------------------------------------- 0.0/322.6 kB ? eta -:--:--\n",
      "   --------------------------------------- 322.6/322.6 kB 19.5 MB/s eta 0:00:00\n",
      "Downloading setproctitle-1.3.4-cp312-cp312-win_amd64.whl (12 kB)\n",
      "Downloading annotated_types-0.7.0-py3-none-any.whl (13 kB)\n",
      "Downloading gitdb-4.0.12-py3-none-any.whl (62 kB)\n",
      "   ---------------------------------------- 0.0/62.8 kB ? eta -:--:--\n",
      "   ---------------------------------------- 62.8/62.8 kB 3.3 MB/s eta 0:00:00\n",
      "Downloading smmap-5.0.2-py3-none-any.whl (24 kB)\n",
      "Installing collected packages: smmap, setproctitle, sentry-sdk, pydantic-core, docker-pycreds, click, annotated-types, pydantic, gitdb, gitpython, wandb\n",
      "Successfully installed annotated-types-0.7.0 click-8.1.8 docker-pycreds-0.4.0 gitdb-4.0.12 gitpython-3.1.44 pydantic-2.10.6 pydantic-core-2.27.2 sentry-sdk-2.20.0 setproctitle-1.3.4 smmap-5.0.2 wandb-0.19.6\n",
      "Note: you may need to restart the kernel to use updated packages.\n"
     ]
    },
    {
     "name": "stderr",
     "output_type": "stream",
     "text": [
      "\n",
      "[notice] A new release of pip is available: 23.2.1 -> 25.0.1\n",
      "[notice] To update, run: C:\\Users\\ghkdw\\AppData\\Local\\Programs\\Python\\Python312\\python.exe -m pip install --upgrade pip\n"
     ]
    }
   ],
   "execution_count": 1
  },
  {
   "metadata": {
    "ExecuteTime": {
     "end_time": "2025-02-12T00:59:45.199462Z",
     "start_time": "2025-02-12T00:59:45.193776Z"
    }
   },
   "cell_type": "code",
   "source": [
    "import os\n",
    "\n",
    "with open(\".env\", \"r\") as f:\n",
    "    env_file = f.read()\n",
    "    env_lines = env_file.split(\"\\n\")\n",
    "    for line in env_lines:\n",
    "        key, value = line.split(\"=\")\n",
    "        os.environ[key] = value"
   ],
   "id": "6ec3f732b9309a45",
   "outputs": [],
   "execution_count": 8
  },
  {
   "metadata": {
    "ExecuteTime": {
     "end_time": "2025-02-12T00:58:05.405044Z",
     "start_time": "2025-02-12T00:58:00.800733Z"
    }
   },
   "cell_type": "code",
   "source": "!wandb login $WANDB_API_KEY",
   "id": "3e9a0ddb19f8b099",
   "outputs": [
    {
     "name": "stderr",
     "output_type": "stream",
     "text": [
      "wandb: Appending key for api.wandb.ai to your netrc file: C:\\Users\\ghkdw\\_netrc\n",
      "wandb: W&B API key is configured. Use `wandb login --relogin` to force relogin\n"
     ]
    }
   ],
   "execution_count": 6
  },
  {
   "metadata": {
    "ExecuteTime": {
     "end_time": "2025-02-12T01:09:00.810354Z",
     "start_time": "2025-02-12T01:08:50.627285Z"
    }
   },
   "cell_type": "code",
   "source": [
    "import wandb\n",
    "\n",
    "wandb.init(project='demo')"
   ],
   "id": "9f1a7f4ebf4a0b0d",
   "outputs": [
    {
     "name": "stderr",
     "output_type": "stream",
     "text": [
      "wandb: Currently logged in as: ghkdwp018 (ghkdwp018-jerry) to https://api.wandb.ai. Use `wandb login --relogin` to force relogin\n",
      "wandb: Using wandb-core as the SDK backend.  Please refer to https://wandb.me/wandb-core for more information.\n"
     ]
    },
    {
     "data": {
      "text/plain": [
       "<IPython.core.display.HTML object>"
      ],
      "text/html": [
       "Tracking run with wandb version 0.19.6"
      ]
     },
     "metadata": {},
     "output_type": "display_data"
    },
    {
     "data": {
      "text/plain": [
       "<IPython.core.display.HTML object>"
      ],
      "text/html": [
       "Run data is saved locally in <code>C:\\Users\\ghkdw\\PycharmProjects\\ai101\\wandb\\run-20250212_100856-7emizn20</code>"
      ]
     },
     "metadata": {},
     "output_type": "display_data"
    },
    {
     "data": {
      "text/plain": [
       "<IPython.core.display.HTML object>"
      ],
      "text/html": [
       "Syncing run <strong><a href='https://wandb.ai/ghkdwp018-jerry/demo/runs/7emizn20' target=\"_blank\">efficient-paper-1</a></strong> to <a href='https://wandb.ai/ghkdwp018-jerry/demo' target=\"_blank\">Weights & Biases</a> (<a href='https://wandb.me/developer-guide' target=\"_blank\">docs</a>)<br>"
      ]
     },
     "metadata": {},
     "output_type": "display_data"
    },
    {
     "data": {
      "text/plain": [
       "<IPython.core.display.HTML object>"
      ],
      "text/html": [
       " View project at <a href='https://wandb.ai/ghkdwp018-jerry/demo' target=\"_blank\">https://wandb.ai/ghkdwp018-jerry/demo</a>"
      ]
     },
     "metadata": {},
     "output_type": "display_data"
    },
    {
     "data": {
      "text/plain": [
       "<IPython.core.display.HTML object>"
      ],
      "text/html": [
       " View run at <a href='https://wandb.ai/ghkdwp018-jerry/demo/runs/7emizn20' target=\"_blank\">https://wandb.ai/ghkdwp018-jerry/demo/runs/7emizn20</a>"
      ]
     },
     "metadata": {},
     "output_type": "display_data"
    },
    {
     "data": {
      "text/html": [
       "<button onClick=\"this.nextSibling.style.display='block';this.style.display='none';\">Display W&B run</button><iframe src='https://wandb.ai/ghkdwp018-jerry/demo/runs/7emizn20?jupyter=true' style='border:none;width:100%;height:420px;display:none;'></iframe>"
      ],
      "text/plain": [
       "<wandb.sdk.wandb_run.Run at 0x191b4afaf90>"
      ]
     },
     "execution_count": 9,
     "metadata": {},
     "output_type": "execute_result"
    }
   ],
   "execution_count": 9
  },
  {
   "metadata": {
    "ExecuteTime": {
     "end_time": "2025-02-12T01:10:12.289435Z",
     "start_time": "2025-02-12T01:10:11.405710Z"
    }
   },
   "cell_type": "code",
   "source": [
    "wandb.run.name = ('demo-run1')\n",
    "\n",
    "for i in range(100):\n",
    "    wandb.log({'step': i, 'loss': 1.0 / (i + 1)})\n",
    "\n",
    "columns = [\"Text\", \"Predicted Sentiment\", \"True Sentiment\"]\n",
    "data = [[\"I love my phone\", \"1\", \"1\"], [\"My phone is not working\", \"0\", \"-1\"]]\n",
    "table = wandb.Table(data=data, columns=columns)\n",
    "wandb.log({\"predictions\": table})"
   ],
   "id": "f0f82c5fbcfc45c",
   "outputs": [],
   "execution_count": 12
  }
 ],
 "metadata": {
  "kernelspec": {
   "display_name": "Python 3",
   "language": "python",
   "name": "python3"
  },
  "language_info": {
   "codemirror_mode": {
    "name": "ipython",
    "version": 2
   },
   "file_extension": ".py",
   "mimetype": "text/x-python",
   "name": "python",
   "nbconvert_exporter": "python",
   "pygments_lexer": "ipython2",
   "version": "2.7.6"
  }
 },
 "nbformat": 4,
 "nbformat_minor": 5
}
