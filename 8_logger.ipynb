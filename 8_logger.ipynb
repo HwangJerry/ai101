{
 "cells": [
  {
   "cell_type": "code",
   "id": "initial_id",
   "metadata": {
    "collapsed": true,
    "ExecuteTime": {
     "end_time": "2025-02-12T00:28:32.750980Z",
     "start_time": "2025-02-12T00:28:32.745413Z"
    }
   },
   "source": "import logging",
   "outputs": [],
   "execution_count": 1
  },
  {
   "metadata": {
    "ExecuteTime": {
     "end_time": "2025-02-12T00:28:49.567128Z",
     "start_time": "2025-02-12T00:28:49.557845Z"
    }
   },
   "cell_type": "code",
   "source": [
    "logging.basicConfig(filename=\"test.log\", level=logging.INFO)\n",
    "logging.debug(\"This is a debug log message\")\n",
    "logging.info(\"This is a info log message\")\n",
    "logging.warning(\"This is a warning log message\")\n",
    "logging.error(\"This is an error log message\")"
   ],
   "id": "3d6937165367bad8",
   "outputs": [],
   "execution_count": 3
  },
  {
   "metadata": {
    "ExecuteTime": {
     "end_time": "2025-02-12T00:40:18.528056Z",
     "start_time": "2025-02-12T00:40:18.523766Z"
    }
   },
   "cell_type": "code",
   "source": [
    "logging.basicConfig(format=\"%(asctime)s %(levelname)s:%(message)s\",\n",
    "                    level=logging.DEBUG,\n",
    "                    datefmt=\"%Y-%m-%d %H:%M:%S %p\",\n",
    "                    filename=\"test.log\")\n",
    "\n",
    "logging.debug(\"This is a debug log message\")"
   ],
   "id": "ab01a0d6752a7932",
   "outputs": [],
   "execution_count": 6
  }
 ],
 "metadata": {
  "kernelspec": {
   "display_name": "Python 3",
   "language": "python",
   "name": "python3"
  },
  "language_info": {
   "codemirror_mode": {
    "name": "ipython",
    "version": 2
   },
   "file_extension": ".py",
   "mimetype": "text/x-python",
   "name": "python",
   "nbconvert_exporter": "python",
   "pygments_lexer": "ipython2",
   "version": "2.7.6"
  }
 },
 "nbformat": 4,
 "nbformat_minor": 5
}
